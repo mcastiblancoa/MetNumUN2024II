{
  "nbformat": 4,
  "nbformat_minor": 0,
  "metadata": {
    "colab": {
      "provenance": [],
      "include_colab_link": true
    },
    "kernelspec": {
      "name": "python3",
      "display_name": "Python 3"
    }
  },
  "cells": [
    {
      "cell_type": "markdown",
      "metadata": {
        "id": "view-in-github",
        "colab_type": "text"
      },
      "source": [
        "<a href=\"https://colab.research.google.com/github/mcastiblancoa/MetNumUN2024II/blob/main/Lab3/mcastiblancoaArithmeticSeriesGeometricSeriesPowerSums.ipynb\" target=\"_parent\"><img src=\"https://colab.research.google.com/assets/colab-badge.svg\" alt=\"Open In Colab\"/></a>"
      ]
    },
    {
      "cell_type": "markdown",
      "source": [
        "# Name: Manuel Castiblanco Avendaño\n",
        "# ID: 12\n",
        "# Last digit of the number in the list: 1"
      ],
      "metadata": {
        "id": "xbAWD-q6yn-x"
      }
    },
    {
      "cell_type": "markdown",
      "metadata": {
        "id": "r4rXWI4gCN5B"
      },
      "source": [
        "# Arithmetic Series\n",
        "\n",
        "## Modified from Arithmetic Series -  [Wolfram MathWorld](https://mathworld.wolfram.com/ArithmeticSeries.html) - [wikipedia](https://en.wikipedia.org/wiki/Arithmetic_progression)\n",
        "\n",
        "\n",
        "An arithmetic sequence $\\{a_k\\}$ for $k=1, 2, ..., $ in which each term is computed from the previous one by adding (or subtracting) a constant $d$.\n",
        "\n",
        "\\begin{align*}\n",
        "a_1 & \\\\\n",
        "a_2 &\\ \\ =\\ \\ a_1 + d  \\\\\n",
        "a_3 &\\ \\ =\\ \\ a_2 + d \\ \\ =\\ \\ a_1 + 2d   \\\\\n",
        "a_4 &\\ \\ =\\ \\ a_3 + d \\ \\ =\\ \\ a_2 + 2d \\ \\ =\\ \\ a_1 + 3d  \\\\\n",
        "\\vdots\\\\\n",
        "a_k &\\ \\ =\\ \\ a_{(k-1)}+d \\ =\\  a_{(k-2)}+2d \\ =\\  \\ldots \\ =\\  \\ a_1+(k-1)d\n",
        "\\end{align*}\n",
        "\n",
        "Therefore, for $k>=1$,\n",
        "\n",
        "$$ a_k = a_1 + (k-1)d$$\n",
        "\n",
        "With $a_1$ and $d$ given.\n",
        "\n",
        "<br />\n",
        "\n",
        "The sequence of the partial sum of the first $n$ terms of a sequence is called a series, in the case of an arithemetic sequence the series is called an arithmetic series.\n",
        "\n",
        "If  $a_1= 1$ and $d=1$ we have, the simplest arithmnetic sequence,  the natural numbers sequence $\\{a_k = k \\}$ for  $k=1, 2, ..., $  i.e. the seuqnece\n",
        "$$1, 2, ...,$$\n",
        "The  corresponding series is\n",
        "$$\n",
        "S_n = 1 + 2+ \\ldots + (n-1)+ n = \\sum_{k=1}^n k\n",
        "$$\n",
        "can be calculated as a function of $n$.\n",
        "\n",
        "Assume that we allign one $S_{n-1}$ with a second  $S_{n-1}$ that have the terms adden reverse order and you add term to term, we have\n",
        "\\begin{array}{llclclclclc}\n",
        "  S_{n-1} &=& 1 &+& 2 &+& \\ldots &+& (n-2) &+& (n-1) \\\\\n",
        "  S_{n-1} &=& (n-1)  &+& (n-2)  &+& \\ldots   &+& 2   &+& 1 \\\\\n",
        "   \\hline \\\\\n",
        "   2S_{n-1} &=& n  &+& n  &+& \\ldots   &+& n   &+& n \\\\\n",
        "\\end{array}\n",
        "so\n",
        "$$  2S_{n-1} = (n-1)n $$\n",
        "then\n",
        "$$  S_{n-1} = \\frac{1}{2} (n-1)n$$\n",
        "therefore\n",
        "$$  S_{n} = \\frac{1}{2} n(n+1)$$\n",
        "\n",
        "\n",
        "\\begin{align*}\n",
        "S_n &= \\sum_{k=1}^n a_k\t\\\\\n",
        "    &= \\sum_{k=1}^n[a_1+(k-1)d]\t\t\\\\\n",
        "    &= na_1 + d \\sum_{k=1}^n(k-1)\t\\\\\n",
        "    &= na_1 + d \\sum_{k=0}^{n-1} k\t\\\\\n",
        "    &= na_1 + d \\sum_{k=1}^{n-1} k\t\\\\\n",
        "    &= na_1 +  \\frac{1}{2} d(n-1)n\\\\\n",
        "\\end{align*}\n",
        "so\n",
        "$$ S_n =  \\frac{1}{2} n[2 a_1 +d(n-1)].$$\n",
        "\n",
        "Note, however, that\n",
        "$$a_1+a_n=a_1+[a_1+d(n-1)]=2a_1+d(n-1),$$\n",
        "so\n",
        "$$S_n = \\frac{1}{2}n(a_1+a_n),$$\n",
        "\n",
        "\n",
        "or $n$ times the arithmetic mean of the first and last terms! This is the trick Gauss used as a schoolboy to solve the problem of summing the integers from $1$ to $100$ given as busy-work by his teacher. While his classmates toiled away doing the addition longhand, Gauss wrote a single number, the correct answer\n",
        "\n",
        "$$\\frac{1}{2}(100)(1+100)=50·101=5050$$\n",
        "on his slate (Burton 1989, pp. 80-81; Hoffman 1998, p. 207). When the answers were examined, Gauss's proved to be the only correct one.\n",
        "\n",
        "<br />\n",
        "\n",
        "If  the sequence starts at index $0$, $\\{a_k\\}$ for $ k=0, 1, 2, ..., $ we have\n",
        "\n",
        "\\begin{align*}\n",
        "a_0 & \\\\\n",
        "a_1 &\\ \\ =\\ \\ a_0 + d  \\\\\n",
        "a_2 &\\ \\ =\\ \\ a_1 + d \\ \\ =\\ \\ a_0 + 2d   \\\\\n",
        "a_3 &\\ \\ =\\ \\ a_2 + d \\ \\ =\\ \\ a_1 + 2d \\ \\ =\\ \\ a_0 + 3d  \\\\\n",
        "\\vdots\\\\\n",
        "a_k &\\ \\ =\\ \\ a_{(k-1)}+d \\ =\\  a_{(k-2)}+2d \\ =\\  \\ldots \\ = \\  \\ a_1+(k-1)d \\ \\ =\\ \\ a_0+kd\n",
        "\\end{align*}\n",
        "\n",
        "<br />\n",
        "for given   $a_0$ and $d$.\n",
        "\n",
        "In this case the sum of the terms between $0$ and $n$ of  the arithmetic sequence  is then given by\n",
        "\\begin{align*}\n",
        "S_n &= \\sum_{k=0}^{n} a_k\t\\\\\n",
        "    &= \\sum_{k=0}^{n}[a_0+kd]\t\t\\\\\n",
        "    &= (n+1) a_0 + d \\sum_{k=0}^{n} k\t\\\\\n",
        "    &= (n+1) a_0 + d \\sum_{k=1}^{} k\t\\\\\n",
        "    &=(n+1) a_0+  \\frac{1}{2} dn(n+1) \\\\\n",
        "\\end{align*}\n",
        "so\n",
        "$$ S_n =  \\frac{1}{2} (n+1)[2 a_0 + dn].$$\n",
        "<br />\n",
        "$$ S_n =  \\frac{1}{2} (n+1)[a_0+ a_n].$$\n",
        "\n",
        "\n"
      ]
    },
    {
      "cell_type": "markdown",
      "metadata": {
        "id": "GfBh-QHRcods"
      },
      "source": [
        "### Code\n",
        "####  The simplest arithmetic sequence and series\n",
        "\n",
        "The simplest arithmnetic sequence is\n",
        "\n",
        "\n",
        "$$a_n = 1, 2, ...,$$"
      ]
    },
    {
      "cell_type": "markdown",
      "metadata": {
        "id": "n36eWqEXiktl"
      },
      "source": [
        "The following code plots the first $n = 15$ terms of the simplest arithmnetic sequence\n",
        "$$\\{a_n = n\\} \\text{ for } n =1,2,\\ldots  $$\n",
        "i.e\n",
        "$$\\{a_n = n\\} =1,2,\\ldots $$\n",
        "adn the corresponding terms of the simplest arithmnetic series\n",
        "$$  S_n = 1 + 2+ \\ldots + (n-1)+ n = \\sum_{k=1}^n k=  \\frac{1}{2} n(n+1)$$\n"
      ]
    },
    {
      "cell_type": "markdown",
      "metadata": {
        "id": "_VyGiunIZknK"
      },
      "source": [
        "Plot"
      ]
    },
    {
      "cell_type": "code",
      "metadata": {
        "colab": {
          "base_uri": "https://localhost:8080/",
          "height": 447
        },
        "id": "gx3Q4uo-ONCi",
        "outputId": "5d88942d-6cce-4e46-ca18-9077dc80c4e9"
      },
      "source": [
        "import matplotlib.pyplot as plt\n",
        "import numpy as np\n",
        "\n",
        "n = 15\n",
        "S_n = 0\n",
        "Serie_S_n=[]\n",
        "Sequence_a_n =[]\n",
        "for i in range(1,n+1):\n",
        "  S_n = S_n + i\n",
        "  Serie_S_n.append(S_n)\n",
        "  Sequence_a_n.append(i)\n",
        "\n",
        "\n",
        "plt.plot(np.arange(1, n+1),Serie_S_n, color='black',label='Serie_S_n')\n",
        "plt.plot(np.arange(1, n+1), Sequence_a_n, color='red',label='Sequence_a_n')\n",
        "plt.xticks(np.arange(1, n+1))\n",
        "plt.legend()\n",
        "\n",
        "\n"
      ],
      "execution_count": 1,
      "outputs": [
        {
          "output_type": "execute_result",
          "data": {
            "text/plain": [
              "<matplotlib.legend.Legend at 0x7f20a8f64290>"
            ]
          },
          "metadata": {},
          "execution_count": 1
        },
        {
          "output_type": "display_data",
          "data": {
            "text/plain": [
              "<Figure size 640x480 with 1 Axes>"
            ],
            "image/png": "[encoded data removed]"
          },
          "metadata": {}
        }
      ]
    },
    {
      "cell_type": "code",
      "metadata": {
        "colab": {
          "base_uri": "https://localhost:8080/"
        },
        "id": "o2es6b4cysQk",
        "outputId": "36686338-73df-4594-b35b-8cb8a69ecd1e"
      },
      "source": [
        "Sequence_a_n"
      ],
      "execution_count": 2,
      "outputs": [
        {
          "output_type": "execute_result",
          "data": {
            "text/plain": [
              "[1, 2, 3, 4, 5, 6, 7, 8, 9, 10, 11, 12, 13, 14, 15]"
            ]
          },
          "metadata": {},
          "execution_count": 2
        }
      ]
    },
    {
      "cell_type": "code",
      "metadata": {
        "colab": {
          "base_uri": "https://localhost:8080/"
        },
        "id": "T2VeBOBZ0ibg",
        "outputId": "baec740e-9436-4bbe-ca48-c830ab7497a2"
      },
      "source": [
        "Serie_S_n"
      ],
      "execution_count": 3,
      "outputs": [
        {
          "output_type": "execute_result",
          "data": {
            "text/plain": [
              "[1, 3, 6, 10, 15, 21, 28, 36, 45, 55, 66, 78, 91, 105, 120]"
            ]
          },
          "metadata": {},
          "execution_count": 3
        }
      ]
    },
    {
      "cell_type": "markdown",
      "metadata": {
        "id": "0ybfJdHxZGvW"
      },
      "source": [
        "The following code computes the  $n=10000000$  term of the airthmetic series\n",
        "$$  S_n = 1 + 2+ \\ldots + (n-1)+ n = \\sum_{k=1}^n =  \\frac{1}{2} n(n+1)$$"
      ]
    },
    {
      "cell_type": "code",
      "metadata": {
        "colab": {
          "base_uri": "https://localhost:8080/"
        },
        "id": "99xYHDQycnol",
        "outputId": "aea3c5da-cbe5-4f64-bb82-7227db486730"
      },
      "source": [
        "n = 10000000\n",
        "S_n = 0\n",
        "for i in range(1,n+1):  # range(n+1) goes form 1 to n\n",
        "  S_n = S_n + i\n",
        "print(S_n)"
      ],
      "execution_count": 4,
      "outputs": [
        {
          "output_type": "stream",
          "name": "stdout",
          "text": [
            "50000005000000\n"
          ]
        }
      ]
    },
    {
      "cell_type": "code",
      "metadata": {
        "colab": {
          "base_uri": "https://localhost:8080/"
        },
        "id": "RGCSuDGHeFwH",
        "outputId": "919728b1-804e-4b0c-c047-ee979ead47c8"
      },
      "source": [
        "(1/2)*n*(n+1)"
      ],
      "execution_count": 5,
      "outputs": [
        {
          "output_type": "execute_result",
          "data": {
            "text/plain": [
              "50000005000000.0"
            ]
          },
          "metadata": {},
          "execution_count": 5
        }
      ]
    },
    {
      "cell_type": "markdown",
      "metadata": {
        "id": "bg8zxAhcecpk"
      },
      "source": [
        "The following code computes the $n=10000000$ term of the airthmetic series\n",
        "$$ S_n  = \\sum_{k=1}^n a_k$$\n",
        "\n",
        "<br />\n",
        "for the airthmetic sequence $a_k = 10 + 3 (k-1) $ for $k=1,2,\\ldots$\n",
        "\n",
        "<br />\n",
        "$$ 10,13,16,19,21,\\ldots$$\n"
      ]
    },
    {
      "cell_type": "markdown",
      "metadata": {
        "id": "hg3ixQ3bZiVh"
      },
      "source": [
        "Plot"
      ]
    },
    {
      "cell_type": "code",
      "metadata": {
        "colab": {
          "base_uri": "https://localhost:8080/"
        },
        "id": "w8FP1XqSgnie",
        "outputId": "ae7f09d5-c47a-4a3c-97ef-73b532fb1340"
      },
      "source": [
        "n = 10000000\n",
        "a = 10\n",
        "d = 3 #\n",
        "S_n = 0\n",
        "for i in range(1,n+1):  # range(n+19 goes form 1 to n\n",
        "  a_n = a + d * (i-1)\n",
        "  S_n = S_n + a_n\n",
        "print(S_n)"
      ],
      "execution_count": 6,
      "outputs": [
        {
          "output_type": "stream",
          "name": "stdout",
          "text": [
            "150000085000000\n"
          ]
        }
      ]
    },
    {
      "cell_type": "code",
      "metadata": {
        "colab": {
          "base_uri": "https://localhost:8080/"
        },
        "id": "g_38RfB_hgg2",
        "outputId": "dc88e9a0-8476-4673-fd41-422b606ffb39"
      },
      "source": [
        "n*(2*a +d*(n-1))/2"
      ],
      "execution_count": 7,
      "outputs": [
        {
          "output_type": "execute_result",
          "data": {
            "text/plain": [
              "150000085000000.0"
            ]
          },
          "metadata": {},
          "execution_count": 7
        }
      ]
    },
    {
      "cell_type": "code",
      "metadata": {
        "colab": {
          "base_uri": "https://localhost:8080/"
        },
        "id": "zS3qb_xE1u58",
        "outputId": "f8de1bde-cf6d-4943-da6b-fffb80da20e8"
      },
      "source": [
        "n*(a +a_n)/2"
      ],
      "execution_count": 8,
      "outputs": [
        {
          "output_type": "execute_result",
          "data": {
            "text/plain": [
              "150000085000000.0"
            ]
          },
          "metadata": {},
          "execution_count": 8
        }
      ]
    },
    {
      "cell_type": "code",
      "metadata": {
        "colab": {
          "base_uri": "https://localhost:8080/",
          "height": 449
        },
        "id": "7qesKez70zub",
        "outputId": "5517cf06-7d35-4694-d98b-34a0995d3207"
      },
      "source": [
        "import matplotlib.pyplot as plt\n",
        "import numpy as np\n",
        "\n",
        "n = 20\n",
        "a = 10\n",
        "d = 3\n",
        "S_n = 0\n",
        "Serie_S_n=[]\n",
        "Sequence_a_n =[]\n",
        "for i in range(1,n+1):  # range(n+1) goes form 1 to n\n",
        "  a_n = a + d * (i-1)\n",
        "  S_n = S_n + a_n\n",
        "  Serie_S_n.append(S_n)\n",
        "  Sequence_a_n.append(a_n)\n",
        "\n",
        "plt.plot(np.arange(1, n+1),Serie_S_n, color='black',label='Serie_S_n')\n",
        "plt.plot(np.arange(1, n+1),Sequence_a_n, color='red',label='Sequence_a_n')\n",
        "plt.xticks(np.arange(1, n+1))\n",
        "plt.legend()"
      ],
      "execution_count": 9,
      "outputs": [
        {
          "output_type": "execute_result",
          "data": {
            "text/plain": [
              "<matplotlib.legend.Legend at 0x7f20a9576e90>"
            ]
          },
          "metadata": {},
          "execution_count": 9
        },
        {
          "output_type": "display_data",
          "data": {
            "text/plain": [
              "<Figure size 640x480 with 1 Axes>"
            ],
            "image/png": "[encoded data removed]"
          },
          "metadata": {}
        }
      ]
    },
    {
      "cell_type": "markdown",
      "metadata": {
        "id": "r9qzONSlZq2q"
      },
      "source": [
        "## Your own example of arithmetic series $a_1$ is your list number and $d$ as the last digit of the your list number\n",
        "\n"
      ]
    },
    {
      "cell_type": "markdown",
      "metadata": {
        "id": "N-TxF1qxc-nk"
      },
      "source": []
    },
    {
      "cell_type": "markdown",
      "source": [
        "My sequence, for $k>=1$,\n",
        "\n",
        "$$ a_k = 12 + 2(k-1) $$\n",
        "\n",
        "And the corresponding series is\n",
        "\n",
        "$$\n",
        "S_n = \\sum_{k=1}^n 12 + 2(k-1)\n",
        "$$"
      ],
      "metadata": {
        "id": "eaY01MtJlWm4"
      }
    },
    {
      "cell_type": "code",
      "metadata": {
        "id": "SrJ_dPxS0pwP",
        "colab": {
          "base_uri": "https://localhost:8080/"
        },
        "outputId": "c67cc1cc-5bbd-408c-b1f8-f3989d980442"
      },
      "source": [
        "import matplotlib.pyplot as plt\n",
        "import numpy as np\n",
        "\n",
        "n = 20\n",
        "a = 12\n",
        "d = 2\n",
        "S_n = 0\n",
        "Serie_S_n=[]\n",
        "Sequence_a_n =[]\n",
        "for i in range(1,n+1):  # range(n+1) goes from 1 to n\n",
        "  a_n = a + d * (i-1)\n",
        "  S_n = S_n + a_n\n",
        "  Serie_S_n.append(S_n)\n",
        "  Sequence_a_n.append(a_n)\n",
        "\n",
        "print(\"Sequence of the first 20:\", Sequence_a_n[0:20])\n",
        "print(\"20th term of the series:\", S_n)"
      ],
      "execution_count": 10,
      "outputs": [
        {
          "output_type": "stream",
          "name": "stdout",
          "text": [
            "Sequence of the first 20: [12, 14, 16, 18, 20, 22, 24, 26, 28, 30, 32, 34, 36, 38, 40, 42, 44, 46, 48, 50]\n",
            "20th term of the series: 620\n"
          ]
        }
      ]
    },
    {
      "cell_type": "code",
      "source": [
        "print(\"20th term of the series with formula:\", n*(a +a_n)/2)"
      ],
      "metadata": {
        "id": "QjJDx28sEV22",
        "colab": {
          "base_uri": "https://localhost:8080/"
        },
        "outputId": "23e6dd64-2188-4c72-ee53-5dc9da748ff9"
      },
      "execution_count": 11,
      "outputs": [
        {
          "output_type": "stream",
          "name": "stdout",
          "text": [
            "20th term of the series with formula: 620.0\n"
          ]
        }
      ]
    },
    {
      "cell_type": "code",
      "source": [
        "print(\"20th term of the series with formula reeplacing ak:\", n*(2*a +d*(n-1))/2)"
      ],
      "metadata": {
        "id": "3l2IV6BOEVv2",
        "colab": {
          "base_uri": "https://localhost:8080/"
        },
        "outputId": "f9107b03-da4d-40f5-bd04-e3915b867bed"
      },
      "execution_count": 12,
      "outputs": [
        {
          "output_type": "stream",
          "name": "stdout",
          "text": [
            "20th term of the series with formula reeplacing ak: 620.0\n"
          ]
        }
      ]
    },
    {
      "cell_type": "code",
      "source": [
        "plt.plot(np.arange(1, n+1),Serie_S_n, color='black',label='Serie_S_n')\n",
        "plt.plot(np.arange(1, n+1),Sequence_a_n, color='red',label='Sequence_a_n')\n",
        "plt.xticks(np.arange(1, n+1))\n",
        "plt.legend()"
      ],
      "metadata": {
        "id": "hWDNr6kHEVmm",
        "colab": {
          "base_uri": "https://localhost:8080/",
          "height": 447
        },
        "outputId": "2b45562a-cde8-43a5-fd2a-0596a110135e"
      },
      "execution_count": 13,
      "outputs": [
        {
          "output_type": "execute_result",
          "data": {
            "text/plain": [
              "<matplotlib.legend.Legend at 0x7f20a8f26690>"
            ]
          },
          "metadata": {},
          "execution_count": 13
        },
        {
          "output_type": "display_data",
          "data": {
            "text/plain": [
              "<Figure size 640x480 with 1 Axes>"
            ],
            "image/png": "[encoded data removed]"
          },
          "metadata": {}
        }
      ]
    },
    {
      "cell_type": "markdown",
      "metadata": {
        "id": "AKWJ1F7hac8T"
      },
      "source": [
        "# Geometric Series\n",
        "\n",
        "## Modified from Geometric Series -  [Wolfram MathWorld](https://mathworld.wolfram.com/GeometricSeries.html) - [wikipedia](https://en.wikipedia.org/wiki/Geometric_series)\n"
      ]
    },
    {
      "cell_type": "markdown",
      "metadata": {
        "id": "W5zx_-nR81GI"
      },
      "source": [
        "An geometric series is the sum of a sequence $\\{a_k\\}$ for $k=1, 2, ..., $ in which each term is computed from the previous  by multipliying constant $r$ and starts with 1.\n",
        "\n",
        "\\begin{align*}\n",
        "a_0 &\\ \\ =\\ \\ r^0 \\ \\ =\\ \\ 1\\\\\n",
        "a_1 &\\ \\ =\\ \\ a_0 *  r \\ \\ =\\ \\  r\\\\\n",
        "a_2 &\\ \\ =\\ \\ a_1 * r\\ \\ =\\ \\ a_0 * r^2  \\ \\ =\\ \\ r^2 \\\\\n",
        "a_3 &\\ \\ =\\ \\ a_2 * r \\ \\ =\\ \\ a_0 * r^3 \\ \\ =\\ \\  r^3  \\\\\n",
        "a_4 &\\ \\ =\\ \\ a_3 * r\\ \\  =\\ \\ a_0 * r^4 \\ \\  =\\ \\ r^4  \\\\\n",
        "\\vdots\\\\\n",
        "a_k &\\ \\ =\\ \\ a_{(k-1)}* r \\ =\\   a_0 * r^k \\ \\  =\\ \\  r^k\n",
        "\\end{align*}\n",
        "\n",
        "The sum of the first $n$ terms  of  the geometric sequence (called an geometric serie)  is then given by\n",
        "$$\n",
        "\\begin{array}{ll}\n",
        "S_n &=  1 + r + r^2 + \\cdots + r^{n-1} +r^n \\\\\n",
        " &=  (1 + r + r^2 + \\cdots + r^{n-1} ) +r^n \\\\\n",
        " &= S_{n-1}  +r^n\n",
        "\\end{array}\n",
        "$$\n",
        "\n",
        "$$\n",
        "\\begin{array}{ll}\n",
        "S_n &=  1 + r + r^2 + \\cdots + r^{n-1} +r^n \\\\\n",
        " &=  1 + (r + r^2 + \\cdots + r^{n-1}  +r^n)  \\\\\n",
        " &=   1 + r (1 +  r  + r^2 + \\cdots + r^{n-1} )  \\\\\n",
        "  &=   1 + r   S_{n-1}\n",
        "\\end{array}\n",
        "$$\n",
        "\n",
        "Then\n",
        "$$\n",
        " S_{n-1}  +r^n =   1 + r   S_{n-1}\n",
        "$$\n",
        "\n",
        "Therefore\n",
        "$$\n",
        " S_{n-1} (1 -r)   +r^n =   1 - r^n\n",
        "$$\n",
        "\n",
        "$$\n",
        " S_{n-1}   =   \\frac{1 - r^n }{1 -r}\n",
        "$$\n",
        "\n",
        "$$\n",
        " S_{n}   =   \\frac{1 - r^{n+1} }{1 -r}  = \\frac{ r^{n+1} - 1}{r -1}\n",
        "$$\n"
      ]
    },
    {
      "cell_type": "markdown",
      "metadata": {
        "id": "CDUYfT8k8crr"
      },
      "source": [
        "## Nodes in Complete Binary Tree with $L=0,1,2,\\cdots , L-1$ levels\n",
        "\n",
        "![](https://raw.githubusercontent.com/gjhernandezp/algorithms/master/Lab7/ComBinTree.png)\n",
        "\n",
        "In a complete binary tree you have in ecah level $k =0,1,2,\\cdots $  $ 2^k $\n",
        "\n",
        "$$\n",
        "\\begin{array}{ll}\n",
        "\\text {Level } 0 \\rightarrow 2^0 = 1 \\text { node (root)} \\\\\n",
        "\\text {Level } 1 \\rightarrow 2^1 = 2 \\text { nodes} \\\\\n",
        "\\text {Level } 2 \\rightarrow 2^2 = 4 \\text { nodes} \\\\\n",
        "\\text {Level } 3 \\rightarrow 2^3 = 8 \\text { nodes} \\\\\n",
        "\\vdots\\\\\n",
        "\\text {Level } k \\rightarrow 2^k  \\text { nodes} \\\\\n",
        "\\end{array}\n",
        "$$\n",
        "\n",
        "nodes, with $l = 0,1,2, ... $ the level\n",
        "\n",
        "Total number of the complte tree with $L=0,1,2,\\cdots , L-1$ levels\n",
        "\n",
        "$$\n",
        "2^0 + 2^1 + 2^2 + \\cdots +2^{L-1}  = 1 + 2 + 4 + \\cdots +2^{L-1} = \\sum_{k=0}^{L-1} 2^k = \\frac{ 2^{L} - 1}{2 -1} = 2^{L} - 1\n",
        "$$"
      ]
    },
    {
      "cell_type": "markdown",
      "source": [
        "## Add the a geometric series with $r =2$ up to 10** 6 and verify with the formula.  "
      ],
      "metadata": {
        "id": "TWqL3ugpEpIN"
      }
    },
    {
      "cell_type": "code",
      "source": [
        "n = 1000\n",
        "a = 5\n",
        "r = 2\n",
        "S_n = 0\n",
        "Serie_S_n=[]\n",
        "Sequence_a_n =[]\n",
        "for i in range(1,n+1):  # range(n+1) goes from 1 to n\n",
        "  a_n = a * (r ** (i-1))\n",
        "  S_n = S_n + a_n\n",
        "  Sequence_a_n.append(S_n)\n",
        "  Serie_S_n.append(a_n)\n",
        "\n",
        "print(\"Sequence of the first 20:\", Sequence_a_n[0:20])\n",
        "print(\"1000th term of the series:\", S_n)"
      ],
      "metadata": {
        "id": "e3DmyWfVEtwV",
        "colab": {
          "base_uri": "https://localhost:8080/"
        },
        "outputId": "6e82fab0-2e0e-48e8-edb7-6e35d874a8d1"
      },
      "execution_count": 14,
      "outputs": [
        {
          "output_type": "stream",
          "name": "stdout",
          "text": [
            "Sequence of the first 20: [5, 15, 35, 75, 155, 315, 635, 1275, 2555, 5115, 10235, 20475, 40955, 81915, 163835, 327675, 655355, 1310715, 2621435, 5242875]\n",
            "1000th term of the series: 53575430359313366047421252453000090528070240585276680372187519418517552556246806124659918940784792906379733645877657341259357264284615702179922887873492874019672838874121154927105373025311855709389770910765232374917909706336993837795827719730385314572855982388432710838302149158263121934186028340346875\n"
          ]
        }
      ]
    },
    {
      "cell_type": "code",
      "source": [
        "print(\"1000th term of the series with formula:\", a*((r**(n))-1)/(r-1))"
      ],
      "metadata": {
        "id": "DUntYdM9FFc8",
        "colab": {
          "base_uri": "https://localhost:8080/"
        },
        "outputId": "1794bb21-a3e5-47e8-9b21-1361c30d6962"
      },
      "execution_count": 15,
      "outputs": [
        {
          "output_type": "stream",
          "name": "stdout",
          "text": [
            "1000th term of the series with formula: 5.357543035931337e+301\n"
          ]
        }
      ]
    },
    {
      "cell_type": "markdown",
      "source": [
        "## Plot and  print the first 20 terms and the partial sums."
      ],
      "metadata": {
        "id": "PXfwrckTEuZF"
      }
    },
    {
      "cell_type": "code",
      "source": [
        "plt.plot(np.arange(1, 20+1),Serie_S_n[0:20], color='black',label='Serie_S_n')\n",
        "plt.plot(np.arange(1, 20+1),Sequence_a_n[0:20], color='red',label='Sequence_a_n')\n",
        "plt.xticks(np.arange(1, 20+1))\n",
        "plt.legend()"
      ],
      "metadata": {
        "id": "YWdK15t3E2kN",
        "colab": {
          "base_uri": "https://localhost:8080/",
          "height": 462
        },
        "outputId": "52e27c46-f3ec-4f9f-c7c6-a68732697833"
      },
      "execution_count": 16,
      "outputs": [
        {
          "output_type": "execute_result",
          "data": {
            "text/plain": [
              "<matplotlib.legend.Legend at 0x7f20a97b6f50>"
            ]
          },
          "metadata": {},
          "execution_count": 16
        },
        {
          "output_type": "display_data",
          "data": {
            "text/plain": [
              "<Figure size 640x480 with 1 Axes>"
            ],
            "image/png": "[encoded data removed]"
          },
          "metadata": {}
        }
      ]
    },
    {
      "cell_type": "markdown",
      "metadata": {
        "id": "YiWlrhLZNMX9"
      },
      "source": [
        "## Your own examples of a geometric series with  $r =d+1$ with $d$  the last digit of the number in the list, add the series up to 10** 6 and verify with the formula.\n"
      ]
    },
    {
      "cell_type": "markdown",
      "source": [
        "My sequence, for $i>=1$,\n",
        "\n",
        "$$ a_i = 12⋅10^{i−1} $$\n",
        "\n",
        "And the corresponding series is\n",
        "\n",
        "$$\n",
        "S_n = \\sum_{i=1}^n 12⋅10^{i−1}\n",
        "$$"
      ],
      "metadata": {
        "id": "6NGZWZYBl2uq"
      }
    },
    {
      "cell_type": "code",
      "metadata": {
        "id": "YvMkYU8UNOll",
        "colab": {
          "base_uri": "https://localhost:8080/"
        },
        "outputId": "96a69a56-f38d-49de-f96e-334ab7f97d33"
      },
      "source": [
        "n = 1000\n",
        "a = 12\n",
        "r = 10\n",
        "S_n = 0\n",
        "Serie_S_n=[]\n",
        "Sequence_a_n =[]\n",
        "for i in range(1,n+1):  # range(n+1) goes from 1 to n\n",
        "  a_n = a * (r ** (i-1))\n",
        "  S_n = S_n + a_n\n",
        "  Sequence_a_n.append(S_n)\n",
        "  Serie_S_n.append(a_n)\n",
        "\n",
        "print(\"Sequence of the first 20:\", Sequence_a_n[0:20])\n",
        "print(\"1000th term of the series:\", S_n)"
      ],
      "execution_count": 17,
      "outputs": [
        {
          "output_type": "stream",
          "name": "stdout",
          "text": [
            "Sequence of the first 20: [12, 132, 1332, 13332, 133332, 1333332, 13333332, 133333332, 1333333332, 13333333332, 133333333332, 1333333333332, 13333333333332, 133333333333332, 1333333333333332, 13333333333333332, 133333333333333332, 1333333333333333332, 13333333333333333332, 133333333333333333332]\n",
            "1000th term of the series: 13333333333333333333333333333333333333333333333333333333333333333333333333333333333333333333333333333333333333333333333333333333333333333333333333333333333333333333333333333333333333333333333333333333333333333333333333333333333333333333333333333333333333333333333333333333333333333333333333333333333333333333333333333333333333333333333333333333333333333333333333333333333333333333333333333333333333333333333333333333333333333333333333333333333333333333333333333333333333333333333333333333333333333333333333333333333333333333333333333333333333333333333333333333333333333333333333333333333333333333333333333333333333333333333333333333333333333333333333333333333333333333333333333333333333333333333333333333333333333333333333333333333333333333333333333333333333333333333333333333333333333333333333333333333333333333333333333333333333333333333333333333333333333333333333333333333333333333333333333333333333333333333333333333333333333333333333333333333333333333333333333333333333333333333333333333333333332\n"
          ]
        }
      ]
    },
    {
      "cell_type": "code",
      "source": [
        "print(\"10000th term of the series with formula:\", a*((r**(n))-1)/(r-1))"
      ],
      "metadata": {
        "id": "-HP3BafuFVYc",
        "colab": {
          "base_uri": "https://localhost:8080/",
          "height": 141
        },
        "outputId": "2d79d5c3-313e-4613-cc5c-22735421c4bb"
      },
      "execution_count": 18,
      "outputs": [
        {
          "output_type": "error",
          "ename": "OverflowError",
          "evalue": "integer division result too large for a float",
          "traceback": [
            "\u001b[0;31m---------------------------------------------------------------------------\u001b[0m",
            "\u001b[0;31mOverflowError\u001b[0m                             Traceback (most recent call last)",
            "\u001b[0;32m<ipython-input-18-0d10ecc31176>\u001b[0m in \u001b[0;36m<cell line: 0>\u001b[0;34m()\u001b[0m\n\u001b[0;32m----> 1\u001b[0;31m \u001b[0mprint\u001b[0m\u001b[0;34m(\u001b[0m\u001b[0;34m\"10000th term of the series with formula:\"\u001b[0m\u001b[0;34m,\u001b[0m \u001b[0ma\u001b[0m\u001b[0;34m*\u001b[0m\u001b[0;34m(\u001b[0m\u001b[0;34m(\u001b[0m\u001b[0mr\u001b[0m\u001b[0;34m**\u001b[0m\u001b[0;34m(\u001b[0m\u001b[0mn\u001b[0m\u001b[0;34m)\u001b[0m\u001b[0;34m)\u001b[0m\u001b[0;34m-\u001b[0m\u001b[0;36m1\u001b[0m\u001b[0;34m)\u001b[0m\u001b[0;34m/\u001b[0m\u001b[0;34m(\u001b[0m\u001b[0mr\u001b[0m\u001b[0;34m-\u001b[0m\u001b[0;36m1\u001b[0m\u001b[0;34m)\u001b[0m\u001b[0;34m)\u001b[0m\u001b[0;34m\u001b[0m\u001b[0;34m\u001b[0m\u001b[0m\n\u001b[0m",
            "\u001b[0;31mOverflowError\u001b[0m: integer division result too large for a float"
          ]
        }
      ]
    },
    {
      "cell_type": "markdown",
      "source": [
        "##  Plot the first 20 terms and the partial sums."
      ],
      "metadata": {
        "id": "ZMYI3sNVEcfC"
      }
    },
    {
      "cell_type": "code",
      "source": [
        "plt.plot(np.arange(1, 20+1),Serie_S_n[0:20], color='black',label='Serie_S_n')\n",
        "plt.plot(np.arange(1, 20+1),Sequence_a_n[0:20], color='red',label='Sequence_a_n')\n",
        "plt.xticks(np.arange(1, 20+1))\n",
        "plt.legend()"
      ],
      "metadata": {
        "id": "RC-2dFAxEYIt",
        "colab": {
          "base_uri": "https://localhost:8080/",
          "height": 462
        },
        "outputId": "4f18ad63-77e1-4990-e7af-8993229f92b2"
      },
      "execution_count": 19,
      "outputs": [
        {
          "output_type": "execute_result",
          "data": {
            "text/plain": [
              "<matplotlib.legend.Legend at 0x7f20a979ff50>"
            ]
          },
          "metadata": {},
          "execution_count": 19
        },
        {
          "output_type": "display_data",
          "data": {
            "text/plain": [
              "<Figure size 640x480 with 1 Axes>"
            ],
            "image/png": "[encoded data removed]"
          },
          "metadata": {}
        }
      ]
    },
    {
      "cell_type": "markdown",
      "metadata": {
        "id": "Dd3RWDwJe2xD"
      },
      "source": [
        "## Zenon Arrow\n",
        "\n",
        "![](https://raw.githubusercontent.com/gjhernandezp/algorithms/master/Lab7/zeno-paradox-arrow.png)\n",
        "\n",
        "Achilles and the tortoise - https://en.wikipedia.org/wiki/Zeno%27s_paradoxes\n",
        "\n",
        "\n",
        "\n",
        "$$\n",
        "\\lim_{n\\rightarrow \\infty} \\left\\{\\left(\\frac{1}{2}\\right)^0 + \\left(\\frac{1}{2}\\right)^1 +\\left(\\frac{1}{2}\\right)^2 + \\cdots +\\left(\\frac{1}{2}\\right)^{n} \\right\\} = \\lim_{n\\rightarrow \\infty} \\left\\{ 1 +\\frac{1}{2} + \\frac{1}{4} + \\frac{1}{8} + \\cdots +\\frac{1}{2^{n}}\\right\\}  = \\lim_{n\\rightarrow \\infty} \\sum_{k=0}^{n} \\left(\\frac{1}{2}\\right)^k = \\lim_{n\\rightarrow \\infty} \\frac{ 1- \\left(\\frac{1}{2}\\right)^n  }{1 - \\left(\\frac{1}{2}\\right) } = \\frac{ 1}{1 - \\left(\\frac{1}{2}\\right)} = 2\n",
        "$$"
      ]
    },
    {
      "cell_type": "markdown",
      "metadata": {
        "id": "R-J4EekBNPkd"
      },
      "source": [
        "## Sum the  geometric with  $r=\\frac{1}{2}$ add the series up to 10**3 and verify with the formula.\n",
        "\n"
      ]
    },
    {
      "cell_type": "code",
      "metadata": {
        "id": "8xdBovY3NEW_",
        "colab": {
          "base_uri": "https://localhost:8080/"
        },
        "outputId": "5f34a8ae-7c0c-4c54-cd8e-a5d7c7ab6611"
      },
      "source": [
        "n = 1000\n",
        "a = 12\n",
        "r = 1/2\n",
        "S_n = 0\n",
        "Serie_S_n=[]\n",
        "Sequence_a_n =[]\n",
        "for i in range(1,n+1):  # range(n+1) goes from 1 to n\n",
        "  a_n = a * (r ** (i-1))\n",
        "  S_n = S_n + a_n\n",
        "  Sequence_a_n.append(S_n)\n",
        "  Serie_S_n.append(a_n)\n",
        "\n",
        "print(\"Sequence of the first 60:\", Sequence_a_n[0:60])\n",
        "print(\"1000th term of the series:\", S_n)"
      ],
      "execution_count": 20,
      "outputs": [
        {
          "output_type": "stream",
          "name": "stdout",
          "text": [
            "Sequence of the first 60: [12.0, 18.0, 21.0, 22.5, 23.25, 23.625, 23.8125, 23.90625, 23.953125, 23.9765625, 23.98828125, 23.994140625, 23.9970703125, 23.99853515625, 23.999267578125, 23.9996337890625, 23.99981689453125, 23.999908447265625, 23.999954223632812, 23.999977111816406, 23.999988555908203, 23.9999942779541, 23.99999713897705, 23.999998569488525, 23.999999284744263, 23.99999964237213, 23.999999821186066, 23.999999910593033, 23.999999955296516, 23.999999977648258, 23.99999998882413, 23.999999994412065, 23.999999997206032, 23.999999998603016, 23.999999999301508, 23.999999999650754, 23.999999999825377, 23.99999999991269, 23.999999999956344, 23.999999999978172, 23.999999999989086, 23.999999999994543, 23.99999999999727, 23.999999999998636, 23.999999999999318, 23.99999999999966, 23.99999999999983, 23.999999999999915, 23.999999999999957, 23.99999999999998, 23.99999999999999, 23.999999999999993, 23.999999999999996, 23.999999999999996, 23.999999999999996, 23.999999999999996, 23.999999999999996, 23.999999999999996, 23.999999999999996, 23.999999999999996]\n",
            "1000th term of the series: 23.999999999999996\n"
          ]
        }
      ]
    },
    {
      "cell_type": "code",
      "source": [
        "print(\"10000th term of the series with formula:\", a*((r**(n))-1)/(r-1))"
      ],
      "metadata": {
        "id": "3bjR3nkYFovN",
        "colab": {
          "base_uri": "https://localhost:8080/"
        },
        "outputId": "13a71588-2c81-4210-aad3-f42fdd95023d"
      },
      "execution_count": 21,
      "outputs": [
        {
          "output_type": "stream",
          "name": "stdout",
          "text": [
            "10000th term of the series with formula: 24.0\n"
          ]
        }
      ]
    },
    {
      "cell_type": "markdown",
      "source": [
        "## Plot and print the first 60 terms and the partial sums."
      ],
      "metadata": {
        "id": "5pp0GXjjFrgc"
      }
    },
    {
      "cell_type": "code",
      "source": [
        "plt.plot(np.arange(1, 60+1),Serie_S_n[0:60], color='black',label='Serie_S_n')\n",
        "plt.plot(np.arange(1, 60+1),Sequence_a_n[0:60], color='red',label='Sequence_a_n')\n",
        "plt.legend()"
      ],
      "metadata": {
        "id": "BNEY8PfmFyM1",
        "colab": {
          "base_uri": "https://localhost:8080/",
          "height": 450
        },
        "outputId": "bd4dc654-9302-4477-f7e2-3c82bfa5bef5"
      },
      "execution_count": 22,
      "outputs": [
        {
          "output_type": "execute_result",
          "data": {
            "text/plain": [
              "<matplotlib.legend.Legend at 0x7f20a9314a50>"
            ]
          },
          "metadata": {},
          "execution_count": 22
        },
        {
          "output_type": "display_data",
          "data": {
            "text/plain": [
              "<Figure size 640x480 with 1 Axes>"
            ],
            "image/png": "[encoded data removed]"
          },
          "metadata": {}
        }
      ]
    },
    {
      "cell_type": "markdown",
      "source": [
        "## Your own examples of a geometric series with $r=\\frac{1}{d+1}$  with $d$ add the series up to 10**3 and verify with the formula."
      ],
      "metadata": {
        "id": "y9RQsrrjFx2k"
      }
    },
    {
      "cell_type": "markdown",
      "source": [
        "My sequence, for $i>=1$,\n",
        "\n",
        "$$ a_i = 12⋅0.1^{i−1} $$\n",
        "\n",
        "And the corresponding series is\n",
        "\n",
        "$$\n",
        "S_n = \\sum_{i=1}^n 12⋅0.1^{i−1}\n",
        "$$"
      ],
      "metadata": {
        "id": "TlfumWlXmX3v"
      }
    },
    {
      "cell_type": "code",
      "source": [
        "n = 1000\n",
        "a = 12\n",
        "r = 1/10\n",
        "S_n = 0\n",
        "Serie_S_n=[]\n",
        "Sequence_a_n =[]\n",
        "for i in range(1,n+1):  # range(n+1) goes from 1 to n\n",
        "  a_n = a * (r ** (i-1))\n",
        "  S_n = S_n + a_n\n",
        "  Sequence_a_n.append(S_n)\n",
        "  Serie_S_n.append(a_n)\n",
        "\n",
        "print(\"Sequence of the first 60:\", Sequence_a_n[0:60])\n",
        "print(\"1000th term of the series:\", S_n)"
      ],
      "metadata": {
        "id": "CtWIsJxlGfGU",
        "colab": {
          "base_uri": "https://localhost:8080/"
        },
        "outputId": "0b6ed388-6b29-4ce4-e218-7e3b9d514312"
      },
      "execution_count": 23,
      "outputs": [
        {
          "output_type": "stream",
          "name": "stdout",
          "text": [
            "Sequence of the first 60: [12.0, 13.2, 13.319999999999999, 13.331999999999999, 13.3332, 13.33332, 13.333332, 13.3333332, 13.33333332, 13.333333331999999, 13.333333333199999, 13.333333333319999, 13.333333333331998, 13.333333333333199, 13.33333333333332, 13.333333333333332, 13.333333333333334, 13.333333333333334, 13.333333333333334, 13.333333333333334, 13.333333333333334, 13.333333333333334, 13.333333333333334, 13.333333333333334, 13.333333333333334, 13.333333333333334, 13.333333333333334, 13.333333333333334, 13.333333333333334, 13.333333333333334, 13.333333333333334, 13.333333333333334, 13.333333333333334, 13.333333333333334, 13.333333333333334, 13.333333333333334, 13.333333333333334, 13.333333333333334, 13.333333333333334, 13.333333333333334, 13.333333333333334, 13.333333333333334, 13.333333333333334, 13.333333333333334, 13.333333333333334, 13.333333333333334, 13.333333333333334, 13.333333333333334, 13.333333333333334, 13.333333333333334, 13.333333333333334, 13.333333333333334, 13.333333333333334, 13.333333333333334, 13.333333333333334, 13.333333333333334, 13.333333333333334, 13.333333333333334, 13.333333333333334, 13.333333333333334]\n",
            "1000th term of the series: 13.333333333333334\n"
          ]
        }
      ]
    },
    {
      "cell_type": "code",
      "source": [
        "print(\"10000th term of the series with formula:\", a*((r**(n))-1)/(r-1))"
      ],
      "metadata": {
        "id": "EFbKmFMPGe_E",
        "colab": {
          "base_uri": "https://localhost:8080/"
        },
        "outputId": "98770028-d216-4cba-a90e-a09e09f5f1c7"
      },
      "execution_count": 24,
      "outputs": [
        {
          "output_type": "stream",
          "name": "stdout",
          "text": [
            "10000th term of the series with formula: 13.333333333333332\n"
          ]
        }
      ]
    },
    {
      "cell_type": "markdown",
      "source": [
        "## Plot and print the first 60 terms and the partial sums."
      ],
      "metadata": {
        "id": "sjX-Z7cwGhUt"
      }
    },
    {
      "cell_type": "code",
      "source": [
        "plt.plot(np.arange(1, 60+1),Serie_S_n[0:60], color='black',label='Serie_S_n')\n",
        "plt.plot(np.arange(1, 60+1),Sequence_a_n[0:60], color='red',label='Sequence_a_n')\n",
        "plt.legend()"
      ],
      "metadata": {
        "id": "tdyJ355mGjKG",
        "colab": {
          "base_uri": "https://localhost:8080/",
          "height": 452
        },
        "outputId": "42f22f42-b345-485a-8560-99a415dc964c"
      },
      "execution_count": 25,
      "outputs": [
        {
          "output_type": "execute_result",
          "data": {
            "text/plain": [
              "<matplotlib.legend.Legend at 0x7f20a9437e90>"
            ]
          },
          "metadata": {},
          "execution_count": 25
        },
        {
          "output_type": "display_data",
          "data": {
            "text/plain": [
              "<Figure size 640x480 with 1 Axes>"
            ],
            "image/png": "[encoded data removed]"
          },
          "metadata": {}
        }
      ]
    },
    {
      "cell_type": "markdown",
      "metadata": {
        "id": "dh2ntBeoNQlN"
      },
      "source": [
        "# Power Sums Power Sums - [Wolfram MathWorld](https://mathworld.wolfram.com/PowerSum.html) - [wikipedia](https://en.wikipedia.org/wiki/Sums_of_powers) - [reserachgate](https://www.researchgate.net/publication/331933608_The_Powers_Sums_Bernoulli_Numbers_Bernoulli_Polynomials_Rethinked)\n",
        "\n"
      ]
    },
    {
      "cell_type": "markdown",
      "source": [
        "## Your own example of power sum with $p =$ last digit in the list $+ 1$, i.e., the sum $1^p+2^p+\\cdots + n^p$  series up to  $n=10^6$  and verify with the formula."
      ],
      "metadata": {
        "id": "kSYU0kwMCBXB"
      }
    },
    {
      "cell_type": "code",
      "metadata": {
        "id": "2PyxzzOZVIdl",
        "colab": {
          "base_uri": "https://localhost:8080/"
        },
        "outputId": "48219e07-a675-4af2-a55a-de43b2465fee"
      },
      "source": [
        "n = 1000000\n",
        "p = 10\n",
        "S_n = 0\n",
        "Serie_S_n=[]\n",
        "Sequence_a_n =[]\n",
        "for i in range(1,n+1):  # range(n+1) goes from 1 to n\n",
        "  a_n = i ** (p)\n",
        "  S_n = S_n + a_n\n",
        "  Sequence_a_n.append(S_n)\n",
        "  Serie_S_n.append(a_n)\n",
        "\n",
        "print(\"Sequence of the first 50:\", Sequence_a_n[0:50])\n",
        "print(\"1000000th term of the series:\", S_n)"
      ],
      "execution_count": 26,
      "outputs": [
        {
          "output_type": "stream",
          "name": "stdout",
          "text": [
            "Sequence of the first 50: [1, 1025, 60074, 1108650, 10874275, 71340451, 353815700, 1427557524, 4914341925, 14914341925, 40851766526, 102769130750, 240627622599, 529882277575, 1106532668200, 2206044295976, 4222038196425, 7792505423049, 13923571680850, 24163571680850, 40843452659051, 67403375450475, 108829886664124, 172233267629500, 267600699270125, 408767794923501, 614658927018150, 910855693713574, 1331562927013775, 1922052927013775, 2741681213994576, 3867581120837200, 5399160106101649, 7463537860161425, 10222085213677050, 13878243653740026, 18686828026157875, 24965039874146099, 33105445959337700, 43591205959337700, 57013865269490101, 74094063391167925, 95705545704452174, 122902906642870350, 156953535558885975, 199374283041662551, 251973415277492600, 316898477386037624, 396690743683649625, 494346993683649625]\n",
            "1000000th term of the series: 90909590909924242424241424242424243424242424241924242424242500000\n"
          ]
        }
      ]
    },
    {
      "cell_type": "code",
      "source": [
        "from sympy import bernoulli, binomial\n",
        "\n",
        "S_n_formula = 0\n",
        "for k in range(0, p + 1):\n",
        "    S_n_formula += binomial(p + 1, k) * bernoulli(k) * n**(p + 1 - k)\n",
        "S_n_formula /= (p + 1)\n",
        "\n",
        "S_n_approx = n**(p + 1) / (p + 1)\n",
        "\n",
        "print(\"1000000th exact term of the series with formula:\", S_n_formula)\n",
        "print(\"1000000th approximated term of the series with formula:\", S_n_approx)"
      ],
      "metadata": {
        "id": "VO_jmCYvGxYU",
        "colab": {
          "base_uri": "https://localhost:8080/"
        },
        "outputId": "7df55d37-1e7d-409a-9aa3-fbdeb0cd4b6c"
      },
      "execution_count": 27,
      "outputs": [
        {
          "output_type": "stream",
          "name": "stdout",
          "text": [
            "1000000th exact term of the series with formula: 90909590909924242424241424242424243424242424241924242424242500000\n",
            "1000000th approximated term of the series with formula: 9.090909090909091e+64\n"
          ]
        }
      ]
    },
    {
      "cell_type": "markdown",
      "source": [
        "## Plot the firtst 20 terms and the partial sums"
      ],
      "metadata": {
        "id": "bLfkQAVNGx1c"
      }
    },
    {
      "cell_type": "code",
      "source": [
        "plt.plot(np.arange(1, 20+1),Serie_S_n[0:20], color='black',label='Serie_S_n')\n",
        "plt.plot(np.arange(1, 20+1),Sequence_a_n[0:20], color='red',label='Sequence_a_n')\n",
        "plt.xticks(np.arange(1, 20+1))\n",
        "plt.legend()"
      ],
      "metadata": {
        "id": "UBxFkepZPZtn",
        "colab": {
          "base_uri": "https://localhost:8080/",
          "height": 462
        },
        "outputId": "30b37abc-4348-4968-e09b-1fb9a2b7ac7c"
      },
      "execution_count": 28,
      "outputs": [
        {
          "output_type": "execute_result",
          "data": {
            "text/plain": [
              "<matplotlib.legend.Legend at 0x7f2074c13390>"
            ]
          },
          "metadata": {},
          "execution_count": 28
        },
        {
          "output_type": "display_data",
          "data": {
            "text/plain": [
              "<Figure size 640x480 with 1 Axes>"
            ],
            "image/png": "[encoded data removed]"
          },
          "metadata": {}
        }
      ]
    }
  ]
}